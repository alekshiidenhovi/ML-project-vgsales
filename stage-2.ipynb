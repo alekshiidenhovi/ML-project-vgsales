{
 "cells": [
  {
   "cell_type": "markdown",
   "id": "75f4fcb9",
   "metadata": {},
   "source": [
    "# Machine Learning Project Stage 2\n",
    "I'm trying to predict the global video game sales based on the its release platform, release year, genre and game publisher. During step 1 I prepare the data for the machine learning task by cleaning the data. In step 2 I split my dataset into smaller training, cross-validation and test sets. In step 3 I train multiple models and perform cross-validation to see which one performs the best."
   ]
  },
  {
   "cell_type": "markdown",
   "id": "be81302e",
   "metadata": {},
   "source": [
    "### Step 0: Download Packages"
   ]
  },
  {
   "cell_type": "code",
   "execution_count": 1,
   "id": "3ad91078",
   "metadata": {},
   "outputs": [],
   "source": [
    "import numpy as np\n",
    "import pandas as pd\n",
    "from matplotlib import pyplot as plt\n",
    "\n",
    "from sklearn.model_selection import train_test_split\n",
    "from sklearn.linear_model import LinearRegression, HuberRegressor, Ridge, Lasso\n",
    "from sklearn.metrics import mean_squared_error\n",
    "\n",
    "# For seeding\n",
    "random_state = 0"
   ]
  },
  {
   "cell_type": "markdown",
   "id": "2ed5632d",
   "metadata": {},
   "source": [
    "### Step 1: Data Fetch and Manipulation\n",
    "I first have to do a little bit of data manipulation with my dataset.\n",
    "\n",
    "1. Get rid off rows with NaN-values.\n",
    "2. Leave out top 20 games with the greatest global sales since these are clear outliers and not explained by the data\n",
    "3. Get rid off rows whose publisher is not part of the top 50 publishers.\n",
    "4. Get rid off rows whose platform is not part of the top 20 most popular platforms\n",
    "5. Get rid off extra columns (incl. rank, local sales)\n",
    "6. Choose the feature columns and create \"dummy\" columns which have a 1 if the row has that feature, else 0\n",
    "7. Create X, y and names dataframes"
   ]
  },
  {
   "cell_type": "code",
   "execution_count": 2,
   "id": "97c31fb8",
   "metadata": {},
   "outputs": [
    {
     "name": "stdout",
     "output_type": "stream",
     "text": [
      "Electronic Arts                 1339\n",
      "Activision                       966\n",
      "Namco Bandai Games               928\n",
      "Ubisoft                          918\n",
      "Konami Digital Entertainment     823\n",
      "Name: Publisher, dtype: int64\n",
      "---------------------------------------------------\n",
      "PS2     1766\n",
      "DS      1624\n",
      "PS3     1157\n",
      "X360    1095\n",
      "Wii     1018\n",
      "Name: Platform, dtype: int64\n",
      "---------------------------------------------------\n",
      "Index(['Platform_3DS', 'Platform_DS', 'Platform_GBA', 'Platform_GC',\n",
      "       'Platform_N64', 'Platform_NES', 'Platform_PC', 'Platform_PS',\n",
      "       'Platform_PS2', 'Platform_PS3',\n",
      "       ...\n",
      "       'Publisher_SquareSoft', 'Publisher_THQ',\n",
      "       'Publisher_Take-Two Interactive', 'Publisher_Tecmo Koei',\n",
      "       'Publisher_Ubisoft', 'Publisher_Unknown',\n",
      "       'Publisher_Virgin Interactive', 'Publisher_Vivendi Games',\n",
      "       'Publisher_Warner Bros. Interactive Entertainment',\n",
      "       'Publisher_Zoo Digital Publishing'],\n",
      "      dtype='object', length=118)\n",
      "---------------------------------------------------\n",
      "count    12895.000000\n",
      "mean         0.570281\n",
      "std          1.171990\n",
      "min          0.010000\n",
      "25%          0.080000\n",
      "50%          0.210000\n",
      "75%          0.560000\n",
      "max         18.360000\n",
      "Name: Global_Sales, dtype: float64\n"
     ]
    }
   ],
   "source": [
    "# 1. Import the dataset, drop rows with na-values\n",
    "df = pd.read_csv(\"vgsales.csv\", sep=\",\", header=0)\n",
    "df = df.dropna()\n",
    "\n",
    "# 2 Leave out top 20 ranked games since they are clear outliers of the other games \n",
    "# in terms of sales\n",
    "df = df[20:]\n",
    "\n",
    "# 3. Get the top 50 publishers that have published the most games\n",
    "top_publishers = df.Publisher.value_counts()[:50]\n",
    "df = df[df.Publisher.isin(top_publishers.index)]\n",
    "\n",
    "print(top_publishers[:5])\n",
    "print(\"---------------------------------------------------\")\n",
    "\n",
    "# 4. Get the top 20 platforms that have the most games\n",
    "top_platforms = df.Platform.value_counts()[:20]\n",
    "df = df[df.Platform.isin(top_platforms.index)]\n",
    "\n",
    "print(top_platforms[:5])\n",
    "print(\"---------------------------------------------------\")\n",
    "\n",
    "# 5. Get rid off extra columns \n",
    "cols = [\"Name\", \"Platform\", \"Year\", \"Genre\", \"Publisher\", \"Global_Sales\"]\n",
    "df = df[cols]\n",
    "\n",
    "# 6. Choose feature columns and get the categorical \"dummy\" columns of each category\n",
    "feature_cols = [\"Platform\", \"Year\", \"Genre\", \"Publisher\"]\n",
    "df = pd.get_dummies(df, prefix=feature_cols, columns=feature_cols)\n",
    "\n",
    "# 7. Create X, y and names dataframes\n",
    "names = df.Name\n",
    "X = df.drop(labels=[\"Name\", \"Global_Sales\"], axis=1)\n",
    "y = df.Global_Sales\n",
    "\n",
    "print(X.columns)\n",
    "print(\"---------------------------------------------------\")\n",
    "print(y.describe())"
   ]
  },
  {
   "cell_type": "markdown",
   "id": "68ba9e9c",
   "metadata": {},
   "source": [
    "### Step 2: Data Split to Training, Validation and Test Sets\n",
    "Create training, cross-validation and test sets with 80/10/10-split."
   ]
  },
  {
   "cell_type": "code",
   "execution_count": 3,
   "id": "252a542f",
   "metadata": {},
   "outputs": [
    {
     "name": "stdout",
     "output_type": "stream",
     "text": [
      "X_train size: (10316, 118)\n",
      "X_cv size: (1289, 118)\n",
      "X_test size: (1290, 118)\n",
      "-------------------------------\n",
      "y_train size: (10316,)\n",
      "y_cv size: (1289,)\n",
      "y_test size: (1290,)\n"
     ]
    }
   ],
   "source": [
    "X_train, X_validation, y_train, y_validation = train_test_split(\n",
    "    X, y, random_state=random_state, test_size=0.2, shuffle=True\n",
    ")\n",
    "\n",
    "X_cv, X_test, y_cv, y_test = train_test_split(\n",
    "    X_validation, y_validation, random_state=random_state, test_size=0.5, shuffle=True\n",
    ")\n",
    "\n",
    "X_train = X_train.to_numpy()\n",
    "X_cv = X_cv.to_numpy()\n",
    "X_test = X_test.to_numpy()\n",
    "y_train = y_train.to_numpy()\n",
    "y_cv = y_cv.to_numpy()\n",
    "y_test = y_test.to_numpy()\n",
    "\n",
    "print(f\"X_train size: {X_train.shape}\")\n",
    "print(f\"X_cv size: {X_cv.shape}\")\n",
    "print(f\"X_test size: {X_test.shape}\")\n",
    "\n",
    "print(\"-------------------------------\")\n",
    "      \n",
    "print(f\"y_train size: {y_train.shape}\")\n",
    "print(f\"y_cv size: {y_cv.shape}\")\n",
    "print(f\"y_test size: {y_test.shape}\")"
   ]
  },
  {
   "cell_type": "markdown",
   "id": "933bd4cb",
   "metadata": {},
   "source": [
    "### Step 3: Model Training and Cross-Validation\n",
    "I will train 13 different models with 2 base models: 1 linear regression and 12 huber regression models. For linear regression we cannot tune hyperparameters such as the regularization parameter alpha but for huber regression we can tune the epsilon parameter that determines when the squared error loss switches to absolute error loss in the huber loss."
   ]
  },
  {
   "cell_type": "code",
   "execution_count": 4,
   "id": "4ec73a43",
   "metadata": {},
   "outputs": [],
   "source": [
    "# Global variables\n",
    "epsilons = [1, 2, 3, 4, 5, 6, 7, 8, 9, 10, 11, 12]\n",
    "max_iter = 2000"
   ]
  },
  {
   "cell_type": "code",
   "execution_count": 5,
   "id": "96facb60",
   "metadata": {},
   "outputs": [],
   "source": [
    "def plot_errors(tr_errors, cv_errors, iterables):\n",
    "    iterable_name = \"Alpha\" if len(iterables) == len(alphas) else \"Epsilon\"\n",
    "    \n",
    "    cv_idx = np.argmin(cv_errors)\n",
    "    cv_alpha = iterables[cv_idx]\n",
    "    cv_value = cv_errors[cv_idx]\n",
    "    \n",
    "    training_low = np.min(tr_errors + cv_errors)\n",
    "    cv_high = np.max(tr_errors + cv_errors)\n",
    "    \n",
    "    plt.plot(tr_errors, color=\"b\", alpha=0.3)\n",
    "    plt.plot(cv_errors, color=\"r\", alpha=0.3)\n",
    "    plt.xlabel(f\"{iterable_name} index\")\n",
    "    plt.ylabel(\"error rate\")\n",
    "    plt.legend([\"Training error\", \"Cross-validation error\"])\n",
    "    plt.vlines([cv_idx], ymin=training_low, ymax=cv_high, color=\"r\")\n",
    "    plt.show()\n",
    "    \n",
    "    print(f\"Best cross-validation error: {cv_value}\")\n",
    "    print(f\"{iterable_name} giving the lowest error: {cv_alpha}\")"
   ]
  },
  {
   "cell_type": "markdown",
   "id": "d33b3031",
   "metadata": {},
   "source": [
    "#### Step 3.1 Linear Regression\n",
    "Loss: squared error"
   ]
  },
  {
   "cell_type": "code",
   "execution_count": 6,
   "id": "7c7bbbcc",
   "metadata": {},
   "outputs": [
    {
     "name": "stdout",
     "output_type": "stream",
     "text": [
      "Training error: 1.1902768496828144\n",
      "Cross-validation error: 0.9668341238707697\n"
     ]
    }
   ],
   "source": [
    "linear = LinearRegression()\n",
    "\n",
    "# Fit the polynomial model\n",
    "linear.fit(X_train, y_train)\n",
    "\n",
    "# Predict the labels and get the training error\n",
    "y_pred_train = linear.predict(X_train)\n",
    "train_error = mean_squared_error(y_train, y_pred_train)\n",
    "\n",
    "# Predict the cv labels and count the cross-validation error\n",
    "y_pred_cv = linear.predict(X_cv)\n",
    "cv_error = mean_squared_error(y_cv, y_pred_cv)\n",
    "\n",
    "print(f\"Training error: {train_error}\")\n",
    "print(f\"Cross-validation error: {cv_error}\")"
   ]
  },
  {
   "cell_type": "markdown",
   "id": "58035f8f",
   "metadata": {},
   "source": [
    "#### Step 3.2: Huber Regression\n",
    "Loss: Huber loss"
   ]
  },
  {
   "cell_type": "code",
   "execution_count": 7,
   "id": "196cd518",
   "metadata": {},
   "outputs": [
    {
     "name": "stdout",
     "output_type": "stream",
     "text": [
      "train_errors: [1.3731715820846166, 1.289871602490711, 1.2361349338239815, 1.2122028252193624, 1.201187899736439, 1.1957530429441654, 1.1928727173036822, 1.191395169353932, 1.190569906513545, 1.1901626403645165, 1.1899921465512255, 1.1899276126036185]\n",
      "cv_errors: [1.0971047096691737, 1.0221047682259377, 0.9823158443488831, 0.968281014814128, 0.963248067840931, 0.9618832442226553, 0.9622087272594285, 0.9625742767781986, 0.9632701774079361, 0.9637302431011019, 0.9641303229966973, 0.9645652040509238]\n"
     ]
    },
    {
     "data": {
      "image/png": "[encoded data removed]",
      "text/plain": [
       "<Figure size 432x288 with 1 Axes>"
      ]
     },
     "metadata": {
      "needs_background": "light"
     },
     "output_type": "display_data"
    },
    {
     "name": "stdout",
     "output_type": "stream",
     "text": [
      "Best cross-validation error: 0.9618832442226553\n",
      "Epsilon giving the lowest error: 6\n"
     ]
    }
   ],
   "source": [
    "train_errors = []\n",
    "cv_errors = []\n",
    "\n",
    "for epsilon in epsilons:\n",
    "    huber = HuberRegressor(max_iter=max_iter, epsilon=epsilon)\n",
    "\n",
    "    # Fit the polynomial model\n",
    "    huber.fit(X_train, y_train)\n",
    "\n",
    "    # Predict the labels and get the training error\n",
    "    y_pred_train = huber.predict(X_train)\n",
    "    train_error = mean_squared_error(y_train, y_pred_train)\n",
    "\n",
    "    # Predict the cv labels and count the cross-validation error\n",
    "    y_pred_cv = huber.predict(X_cv)\n",
    "    cv_error = mean_squared_error(y_cv, y_pred_cv)\n",
    "\n",
    "    # Append the error scores\n",
    "    train_errors.append(train_error)\n",
    "    cv_errors.append(cv_error)\n",
    "\n",
    "print(f\"train_errors: {train_errors}\")\n",
    "print(f\"cv_errors: {cv_errors}\")\n",
    "\n",
    "plot_errors(train_errors, cv_errors, epsilons)"
   ]
  }
 ],
 "metadata": {
  "kernelspec": {
   "display_name": "Python 3 (ipykernel)",
   "language": "python",
   "name": "python3"
  },
  "language_info": {
   "codemirror_mode": {
    "name": "ipython",
    "version": 3
   },
   "file_extension": ".py",
   "mimetype": "text/x-python",
   "name": "python",
   "nbconvert_exporter": "python",
   "pygments_lexer": "ipython3",
   "version": "3.10.0"
  }
 },
 "nbformat": 4,
 "nbformat_minor": 5
}
