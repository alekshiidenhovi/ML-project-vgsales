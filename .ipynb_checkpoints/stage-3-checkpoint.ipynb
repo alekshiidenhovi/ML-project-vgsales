{
 "cells": [
  {
   "cell_type": "markdown",
   "id": "75f4fcb9",
   "metadata": {},
   "source": [
    "# Machine Learning Project Stage 3\n",
    "I'm trying to predict the global video game sales based on the its release platform, release year, genre and game publisher. During step 1 I prepare the data for the machine learning task by cleaning the data. In step 2 I split my dataset into smaller training, cross-validation and test sets. In step 3 I train multiple models and perform cross-validation to see which one performs the best. Then in step 4 I pick the best model and get the test accuracy of the model. Finally, I conclude the results of my study and give my thoughts about the results."
   ]
  },
  {
   "cell_type": "markdown",
   "id": "be81302e",
   "metadata": {},
   "source": [
    "### Step 0: Download Packages"
   ]
  },
  {
   "cell_type": "code",
   "execution_count": 1,
   "id": "3ad91078",
   "metadata": {},
   "outputs": [],
   "source": [
    "import numpy as np\n",
    "import pandas as pd\n",
    "from matplotlib import pyplot as plt\n",
    "\n",
    "from sklearn.model_selection import train_test_split\n",
    "from sklearn.linear_model import LinearRegression, HuberRegressor, Ridge, Lasso\n",
    "from sklearn.metrics import mean_squared_error, mean_absolute_error\n",
    "\n",
    "# For seeding\n",
    "random_state = 0"
   ]
  },
  {
   "cell_type": "markdown",
   "id": "2ed5632d",
   "metadata": {},
   "source": [
    "### Step 1: Data fetch and manipulation\n",
    "I first have to do a little bit of data manipulation with my dataset.\n",
    "\n",
    "1. Get rid off rows with NaN-values.\n",
    "2. Leave out top 20 games with the greatest global sales since these are clear outliers and not explained by the data\n",
    "3. Get rid off rows whose publisher is not part of the top 50 publishers.\n",
    "4. Get rid off rows whose platform is not part of the top 20 most popular platforms\n",
    "5. Get rid off extra columns (incl. rank, local sales)\n",
    "6. Choose the feature columns and create \"dummy\" columns which have a 1 if the row has that feature, else 0\n",
    "7. Create X, y and names dataframes"
   ]
  },
  {
   "cell_type": "code",
   "execution_count": 2,
   "id": "97c31fb8",
   "metadata": {},
   "outputs": [
    {
     "name": "stdout",
     "output_type": "stream",
     "text": [
      "Electronic Arts                 1339\n",
      "Activision                       966\n",
      "Namco Bandai Games               928\n",
      "Ubisoft                          918\n",
      "Konami Digital Entertainment     823\n",
      "Name: Publisher, dtype: int64\n",
      "---------------------------------------------------\n",
      "PS2     1766\n",
      "DS      1624\n",
      "PS3     1157\n",
      "X360    1095\n",
      "Wii     1018\n",
      "Name: Platform, dtype: int64\n",
      "---------------------------------------------------\n",
      "Index(['Platform_3DS', 'Platform_DS', 'Platform_GBA', 'Platform_GC',\n",
      "       'Platform_N64', 'Platform_NES', 'Platform_PC', 'Platform_PS',\n",
      "       'Platform_PS2', 'Platform_PS3', 'Platform_PS4', 'Platform_PSP',\n",
      "       'Platform_PSV', 'Platform_SAT', 'Platform_SNES', 'Platform_Wii',\n",
      "       'Platform_WiiU', 'Platform_X360', 'Platform_XB', 'Platform_XOne',\n",
      "       'Genre_Action', 'Genre_Adventure', 'Genre_Fighting', 'Genre_Misc',\n",
      "       'Genre_Platform', 'Genre_Puzzle', 'Genre_Racing', 'Genre_Role-Playing',\n",
      "       'Genre_Shooter', 'Genre_Simulation', 'Genre_Sports', 'Genre_Strategy',\n",
      "       'Publisher_505 Games', 'Publisher_5pb',\n",
      "       'Publisher_Acclaim Entertainment', 'Publisher_Activision',\n",
      "       'Publisher_Alchemist', 'Publisher_Atari', 'Publisher_Atlus',\n",
      "       'Publisher_Banpresto', 'Publisher_Bethesda Softworks',\n",
      "       'Publisher_Capcom', 'Publisher_Codemasters',\n",
      "       'Publisher_Crave Entertainment', 'Publisher_D3Publisher',\n",
      "       'Publisher_DTP Entertainment', 'Publisher_Deep Silver',\n",
      "       'Publisher_Destineer', 'Publisher_Disney Interactive Studios',\n",
      "       'Publisher_Eidos Interactive', 'Publisher_Electronic Arts',\n",
      "       'Publisher_Empire Interactive', 'Publisher_Focus Home Interactive',\n",
      "       'Publisher_GT Interactive', 'Publisher_Hudson Soft',\n",
      "       'Publisher_Idea Factory', 'Publisher_Ignition Entertainment',\n",
      "       'Publisher_Infogrames', 'Publisher_Kadokawa Shoten',\n",
      "       'Publisher_Konami Digital Entertainment', 'Publisher_LucasArts',\n",
      "       'Publisher_Majesco Entertainment', 'Publisher_Marvelous Interactive',\n",
      "       'Publisher_Microsoft Game Studios', 'Publisher_Midway Games',\n",
      "       'Publisher_Namco Bandai Games', 'Publisher_Nintendo',\n",
      "       'Publisher_Nippon Ichi Software', 'Publisher_Rising Star Games',\n",
      "       'Publisher_Sega', 'Publisher_Sony Computer Entertainment',\n",
      "       'Publisher_Square Enix', 'Publisher_SquareSoft', 'Publisher_THQ',\n",
      "       'Publisher_Take-Two Interactive', 'Publisher_Tecmo Koei',\n",
      "       'Publisher_Ubisoft', 'Publisher_Unknown',\n",
      "       'Publisher_Virgin Interactive', 'Publisher_Vivendi Games',\n",
      "       'Publisher_Warner Bros. Interactive Entertainment',\n",
      "       'Publisher_Zoo Digital Publishing'],\n",
      "      dtype='object')\n",
      "---------------------------------------------------\n",
      "count    12895.000000\n",
      "mean         0.570281\n",
      "std          1.171990\n",
      "min          0.010000\n",
      "25%          0.080000\n",
      "50%          0.210000\n",
      "75%          0.560000\n",
      "max         18.360000\n",
      "Name: Global_Sales, dtype: float64\n"
     ]
    }
   ],
   "source": [
    "# 1. Import the dataset, drop rows with na-values\n",
    "df = pd.read_csv(\"vgsales.csv\", sep=\",\", header=0)\n",
    "df = df.dropna()\n",
    "\n",
    "# 2 Leave out top 20 ranked games since they are clear outliers of the other games \n",
    "# in terms of sales\n",
    "df = df[20:]\n",
    "\n",
    "# 3. Get the top 50 publishers that have published the most games\n",
    "top_publishers = df.Publisher.value_counts()[:50]\n",
    "df = df[df.Publisher.isin(top_publishers.index)]\n",
    "\n",
    "print(top_publishers[:5])\n",
    "print(\"---------------------------------------------------\")\n",
    "\n",
    "# 4. Get the top 20 platforms that have the most games\n",
    "top_platforms = df.Platform.value_counts()[:20]\n",
    "df = df[df.Platform.isin(top_platforms.index)]\n",
    "\n",
    "print(top_platforms[:5])\n",
    "print(\"---------------------------------------------------\")\n",
    "\n",
    "# 5. Get rid off extra columns \n",
    "cols = [\"Name\", \"Platform\", \"Genre\", \"Publisher\", \"Global_Sales\"]\n",
    "df = df[cols]\n",
    "\n",
    "# 6. Choose feacture columns and get the categorical \"dummy\" columns of each category\n",
    "feature_cols = [\"Platform\", \"Genre\", \"Publisher\"]\n",
    "df = pd.get_dummies(df, prefix=feature_cols, columns=feature_cols)\n",
    "\n",
    "# 7. Create X, y and names dataframes\n",
    "names = df.Name\n",
    "X = df.drop(labels=[\"Name\", \"Global_Sales\"], axis=1)\n",
    "y = df.Global_Sales\n",
    "\n",
    "print(X.columns)\n",
    "print(\"---------------------------------------------------\")\n",
    "print(y.describe())"
   ]
  },
  {
   "cell_type": "markdown",
   "id": "68ba9e9c",
   "metadata": {},
   "source": [
    "### Step 2: Data split to training, validation and test sets\n",
    "Create training, cross-validation and test sets with 80/10/10-split."
   ]
  },
  {
   "cell_type": "code",
   "execution_count": 3,
   "id": "252a542f",
   "metadata": {},
   "outputs": [
    {
     "name": "stdout",
     "output_type": "stream",
     "text": [
      "X_train size: (10316, 82)\n",
      "X_cv size: (1289, 82)\n",
      "X_test size: (1290, 82)\n",
      "-------------------------------\n",
      "y_train size: (10316,)\n",
      "y_cv size: (1289,)\n",
      "y_test size: (1290,)\n"
     ]
    }
   ],
   "source": [
    "X_train, X_validation, y_train, y_validation = train_test_split(\n",
    "    X, y, random_state=random_state, test_size=0.2\n",
    ")\n",
    "\n",
    "X_cv, X_test, y_cv, y_test = train_test_split(\n",
    "    X_validation, y_validation, random_state=random_state, test_size=0.5, shuffle=True\n",
    ")\n",
    "\n",
    "X_train = X_train.to_numpy()\n",
    "X_cv = X_cv.to_numpy()\n",
    "X_test = X_test.to_numpy()\n",
    "y_train = y_train.to_numpy()\n",
    "y_cv = y_cv.to_numpy()\n",
    "y_test = y_test.to_numpy()\n",
    "\n",
    "print(f\"X_train size: {X_train.shape}\")\n",
    "print(f\"X_cv size: {X_cv.shape}\")\n",
    "print(f\"X_test size: {X_test.shape}\")\n",
    "\n",
    "print(\"-------------------------------\")\n",
    "      \n",
    "print(f\"y_train size: {y_train.shape}\")\n",
    "print(f\"y_cv size: {y_cv.shape}\")\n",
    "print(f\"y_test size: {y_test.shape}\")"
   ]
  },
  {
   "cell_type": "markdown",
   "id": "933bd4cb",
   "metadata": {},
   "source": [
    "### Step 3: Model training and cross-validation\n",
    "I will train 12 different models with 2 base models: 1 linear regression and 11 huber regression models. Linear regression is trained only once because under the hood it uses least squares linear regression instead of iterative linear regression which is why it's computed numerically instead of iteratively. This is why we cannot declare a regularization paramater alpha for it like we can for huber regression."
   ]
  },
  {
   "cell_type": "code",
   "execution_count": 4,
   "id": "4ec73a43",
   "metadata": {},
   "outputs": [],
   "source": [
    "# Global variables\n",
    "alphas = [0.0001, 0.0003, 0.001, 0.003, 0.01, 0.03, 0.1, 0.3, 1, 3, 10]\n",
    "max_iter = 2000"
   ]
  },
  {
   "cell_type": "code",
   "execution_count": 5,
   "id": "96facb60",
   "metadata": {},
   "outputs": [],
   "source": [
    "def plot_errors(tr_errors, cv_errors, alphas):\n",
    "    cv_idx = np.argmin(cv_errors)\n",
    "    cv_alpha = alphas[cv_idx]\n",
    "    cv_value = cv_errors[cv_idx]\n",
    "    \n",
    "    training_low = np.min(tr_errors + cv_errors)\n",
    "    cv_high = np.max(tr_errors + cv_errors)\n",
    "    \n",
    "    plt.plot(tr_errors, color=\"b\", alpha=0.3)\n",
    "    plt.plot(cv_errors, color=\"r\", alpha=0.3)\n",
    "    plt.xlabel(\"alpha index\")\n",
    "    plt.ylabel(\"error rate\")\n",
    "    plt.legend([\"Training error\", \"Cross-validation error\"])\n",
    "    plt.vlines([cv_idx], ymin=training_low, ymax=cv_high, color=\"r\")\n",
    "    plt.show()\n",
    "    \n",
    "    print(f\"Best cross-validation error: {cv_value}\")\n",
    "    print(f\"Alpha giving the lowest error: {cv_alpha}\")"
   ]
  },
  {
   "cell_type": "markdown",
   "id": "d33b3031",
   "metadata": {},
   "source": [
    "#### Step 3.1 Linear Regression\n",
    "Loss: squared error"
   ]
  },
  {
   "cell_type": "code",
   "execution_count": 6,
   "id": "7c7bbbcc",
   "metadata": {},
   "outputs": [
    {
     "name": "stdout",
     "output_type": "stream",
     "text": [
      "Training error: 1.2127600542991832\n",
      "Cross-validation error: 0.9712638954824028\n"
     ]
    }
   ],
   "source": [
    "linear = LinearRegression()\n",
    "\n",
    "# Fit the polynomial model\n",
    "linear.fit(X_train, y_train)\n",
    "\n",
    "# Predict the labels and get the training error\n",
    "y_pred_train = linear.predict(X_train)\n",
    "train_error = mean_squared_error(y_train, y_pred_train)\n",
    "\n",
    "# Predict the cv labels and count the cross-validation error\n",
    "y_pred_cv = linear.predict(X_cv)\n",
    "cv_error = mean_squared_error(y_cv, y_pred_cv)\n",
    "\n",
    "print(f\"Training error: {train_error}\")\n",
    "print(f\"Cross-validation error: {cv_error}\")"
   ]
  },
  {
   "cell_type": "markdown",
   "id": "58035f8f",
   "metadata": {},
   "source": [
    "#### Step 3.2: Huber Regression\n",
    "Loss: Huber loss"
   ]
  },
  {
   "cell_type": "code",
   "execution_count": 7,
   "id": "196cd518",
   "metadata": {},
   "outputs": [
    {
     "name": "stdout",
     "output_type": "stream",
     "text": [
      "train_errors: [1.363316154297661, 1.3633160381468834, 1.3633148247924047, 1.3633129723828323, 1.3633199033489902, 1.3633213584419888, 1.3633353883496429, 1.3633847356361253, 1.3635561479125926, 1.363925078681876, 1.3652977529736559]\n",
      "cv_errors: [1.0833077213414586, 1.0833079442625428, 1.083307443489252, 1.083306012689086, 1.083317134072066, 1.083310996227427, 1.0833215176528865, 1.083367593398764, 1.0835184526783674, 1.0838504607461998, 1.085081214060021]\n"
     ]
    },
    {
     "data": {
      "image/png": "[encoded data removed]",
      "text/plain": [
       "<Figure size 432x288 with 1 Axes>"
      ]
     },
     "metadata": {
      "needs_background": "light"
     },
     "output_type": "display_data"
    },
    {
     "name": "stdout",
     "output_type": "stream",
     "text": [
      "Best cross-validation error: 1.083306012689086\n",
      "Alpha giving the lowest error: 0.003\n"
     ]
    }
   ],
   "source": [
    "train_errors = []\n",
    "cv_errors = []\n",
    "\n",
    "for alpha in alphas:\n",
    "    huber = HuberRegressor(max_iter=max_iter, alpha=alpha)\n",
    "\n",
    "    # Fit the polynomial model\n",
    "    huber.fit(X_train, y_train)\n",
    "\n",
    "    # Predict the labels and get the training error\n",
    "    y_pred_train = huber.predict(X_train)\n",
    "    train_error = mean_squared_error(y_train, y_pred_train)\n",
    "\n",
    "    # Predict the cv labels and count the cross-validation error\n",
    "    y_pred_cv = huber.predict(X_cv)\n",
    "    cv_error = mean_squared_error(y_cv, y_pred_cv)\n",
    "\n",
    "    # Append the error scores\n",
    "    train_errors.append(train_error)\n",
    "    cv_errors.append(cv_error)\n",
    "\n",
    "print(f\"train_errors: {train_errors}\")\n",
    "print(f\"cv_errors: {cv_errors}\")\n",
    "\n",
    "plot_errors(train_errors, cv_errors, alphas)"
   ]
  },
  {
   "cell_type": "markdown",
   "id": "78fdf2b6",
   "metadata": {},
   "source": [
    "#### Step 3.3: Ridge Regression\n",
    "Loss: Mean squared error loss regularised by L2-norm"
   ]
  },
  {
   "cell_type": "code",
   "execution_count": 8,
   "id": "ddfb4eaf",
   "metadata": {},
   "outputs": [
    {
     "name": "stdout",
     "output_type": "stream",
     "text": [
      "train_errors: [1.2123973550541958, 1.2123973550546958, 1.2123973550603855, 1.2123973551104017, 1.2123973556791976, 1.2123973606761174, 1.2123974173811496, 1.2123979124408166, 1.2124034137114452, 1.2124486905291847, 1.2128701087572251]\n",
      "cv_errors: [0.9702519753579337, 0.9702519633147877, 0.9702519211680448, 0.970251800785356, 0.9702513798725315, 0.970250180917234, 0.9702460270461268, 0.9702345192580629, 0.9701983096050321, 0.97012652197564, 0.970151176058604]\n"
     ]
    },
    {
     "data": {
      "image/png": "[encoded data removed]",
      "text/plain": [
       "<Figure size 432x288 with 1 Axes>"
      ]
     },
     "metadata": {
      "needs_background": "light"
     },
     "output_type": "display_data"
    },
    {
     "name": "stdout",
     "output_type": "stream",
     "text": [
      "Best cross-validation error: 0.97012652197564\n",
      "Alpha giving the lowest error: 3\n"
     ]
    }
   ],
   "source": [
    "train_errors = []\n",
    "cv_errors = []\n",
    "\n",
    "for alpha in alphas:\n",
    "    ridge = Ridge(max_iter=max_iter, alpha=alpha)\n",
    "\n",
    "    # Fit the polynomial model\n",
    "    ridge.fit(X_train, y_train)\n",
    "\n",
    "    # Predict the labels and get the training error\n",
    "    y_pred_train = ridge.predict(X_train)\n",
    "    train_error = mean_squared_error(y_train, y_pred_train)\n",
    "\n",
    "    # Predict the cv labels and count the cross-validation error\n",
    "    y_pred_cv = ridge.predict(X_cv)\n",
    "    cv_error = mean_squared_error(y_cv, y_pred_cv)\n",
    "\n",
    "    # Append the error scores\n",
    "    train_errors.append(train_error)\n",
    "    cv_errors.append(cv_error)\n",
    "\n",
    "print(f\"train_errors: {train_errors}\")\n",
    "print(f\"cv_errors: {cv_errors}\")\n",
    "\n",
    "plot_errors(train_errors, cv_errors, alphas)"
   ]
  },
  {
   "cell_type": "markdown",
   "id": "a68d3f33",
   "metadata": {},
   "source": [
    "#### Step 3.4: Lasso Regresssion\n",
    "Mean squared error loss regularised by L1-norm"
   ]
  },
  {
   "cell_type": "code",
   "execution_count": null,
   "id": "9ef71c23",
   "metadata": {
    "scrolled": true
   },
   "outputs": [],
   "source": [
    "train_errors = []\n",
    "cv_errors = []\n",
    "    \n",
    "for alpha in alphas:\n",
    "    lasso = Lasso(max_iter=max_iter, alpha=alpha)\n",
    "\n",
    "    # Fit the polynomial model\n",
    "    lasso.fit(X_train, y_train)\n",
    "\n",
    "    # Predict the labels and get the training error\n",
    "    y_pred_train = lasso.predict(X_train)\n",
    "    train_error = mean_squared_error(y_train, y_pred_train)\n",
    "\n",
    "    # Predict the cv labels and count the cross-validation error\n",
    "    y_pred_cv = lasso.predict(X_cv)\n",
    "    cv_error = mean_squared_error(y_cv, y_pred_cv)\n",
    "\n",
    "    # Append the error scores\n",
    "    train_errors.append(train_error)\n",
    "    cv_errors.append(cv_error)\n",
    "\n",
    "print(f\"train_errors: {train_errors}\")\n",
    "print(f\"cv_errors: {cv_errors}\")\n",
    "\n",
    "plot_errors(train_errors, cv_errors, alphas)"
   ]
  },
  {
   "cell_type": "markdown",
   "id": "68a0e2e3",
   "metadata": {},
   "source": [
    "### Step 4: Model picking and testing\n",
    "Based on the cross-validation error, the best model seems to be ridge regression with alpha set to 1. Let's train this model one more time and then try test it out in our test set."
   ]
  },
  {
   "cell_type": "code",
   "execution_count": null,
   "id": "5e8499fd",
   "metadata": {},
   "outputs": [],
   "source": [
    "def plot_predictions(y_actual, y_pred):\n",
    "    plt.plot(y_actual, color=\"r\", alpha=0.5)\n",
    "    plt.plot(y_pred, color=\"b\", alpha=0.5)\n",
    "    plt.legend([\"Real Data\", \"Predictions\"])\n",
    "    plt.show()\n",
    "    \n",
    "    test_error = mean_squared_error(y_test, y_pred_test)    \n",
    "    print(f\"Test error: {test_error}\")"
   ]
  },
  {
   "cell_type": "code",
   "execution_count": null,
   "id": "58457376",
   "metadata": {
    "scrolled": false
   },
   "outputs": [],
   "source": [
    "model = Ridge(max_iter=max_iter, alpha=0.0001)\n",
    "\n",
    "ridge.fit(X_train, y_train)\n",
    "y_pred_test = ridge.predict(X_test)\n",
    "\n",
    "plot_predictions(y_test, y_pred_test)"
   ]
  },
  {
   "cell_type": "markdown",
   "id": "3aa8337e",
   "metadata": {},
   "source": [
    "### Conclusion\n",
    "Model seems to predict the sales prices relatively well. The dataset contains quite a few outliers that the model has hard time predicting but despite this the model seems to find the baseline of the sales pretty well.\n",
    "\n",
    "This races the question if the four features by themselves are even capable of predicting the global sales. There are many other things that go into game development and sales, for example the quality of content in the game: is the game fun to play, are there lots of bugs, does the game have an active and engaging community behind it? These aspects are completely left out but they have a massive impact on how well the game ends up selling.\n",
    "\n",
    "Interesting features to include in the dataset would be e.g the Metacritic rating (experts vs community) and release month. The public perception of the game often has great impact on after-release sales. Also, many game publishers try to target to release their games during holiday season, probably, because this often leads to greater sales. These two features would likely give much better understanding of the problem which consequently would lead to better models to predict the global sales."
   ]
  },
  {
   "cell_type": "code",
   "execution_count": null,
   "id": "c103e489",
   "metadata": {},
   "outputs": [],
   "source": []
  }
 ],
 "metadata": {
  "kernelspec": {
   "display_name": "Python 3 (ipykernel)",
   "language": "python",
   "name": "python3"
  },
  "language_info": {
   "codemirror_mode": {
    "name": "ipython",
    "version": 3
   },
   "file_extension": ".py",
   "mimetype": "text/x-python",
   "name": "python",
   "nbconvert_exporter": "python",
   "pygments_lexer": "ipython3",
   "version": "3.10.0"
  }
 },
 "nbformat": 4,
 "nbformat_minor": 5
}
